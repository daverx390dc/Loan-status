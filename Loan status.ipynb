{
 "cells": [
  {
   "cell_type": "markdown",
   "id": "e5892152",
   "metadata": {},
   "source": [
    "## Loan Prediction\n",
    "\n",
    "## Table of Contents\n",
    "1. Getting the system ready and loading the data\n",
    "2. Understanding the data\n",
    "3. Missing value and outlier treatment\n",
    "4. splitting the data\n",
    "5. Data preprocessing\n",
    "6. Model Building\n",
    "    i. Logistic Regression\n",
    "    Model evaluation\n",
    "    \n",
    "7. Model Building\n",
    "    ii. Random Forest\n",
    "     Model evaluation"
   ]
  },
  {
   "cell_type": "markdown",
   "id": "7c58bafd",
   "metadata": {},
   "source": [
    "### 1. Getting the system ready and loading the data\n"
   ]
  },
  {
   "cell_type": "markdown",
   "id": "5005ae64",
   "metadata": {},
   "source": [
    "Used libraries\n",
    "\n",
    "1. Pandas\n",
    "2. Num1py\n",
    "3. Seaborn\n",
    "4. Matplotlib\n",
    "5. Sklearn"
   ]
  },
  {
   "cell_type": "code",
   "execution_count": 87,
   "id": "99b81e5a",
   "metadata": {},
   "outputs": [],
   "source": [
    "import pandas as pd\n",
    "import numpy as np\n",
    "import seaborn as sns\n",
    "import matplotlib.pyplot as plt\n",
    "%matplotlib inline"
   ]
  },
  {
   "cell_type": "code",
   "execution_count": 129,
   "id": "2950b9cc",
   "metadata": {},
   "outputs": [],
   "source": [
    "df = pd.read_csv(r\"C:\\Users\\CHINMAY\\Documents\\loan_status.csv\")\n"
   ]
  },
  {
   "cell_type": "markdown",
   "id": "0b99bd03",
   "metadata": {},
   "source": [
    "### 2. Understanding the data\n"
   ]
  },
  {
   "cell_type": "code",
   "execution_count": 130,
   "id": "c850ffc0",
   "metadata": {},
   "outputs": [
    {
     "data": {
      "text/plain": [
       "(614, 13)"
      ]
     },
     "execution_count": 130,
     "metadata": {},
     "output_type": "execute_result"
    }
   ],
   "source": [
    "df.shape"
   ]
  },
  {
   "cell_type": "code",
   "execution_count": 89,
   "id": "5bbb365a",
   "metadata": {},
   "outputs": [
    {
     "data": {
      "text/html": [
       "<div>\n",
       "<style scoped>\n",
       "    .dataframe tbody tr th:only-of-type {\n",
       "        vertical-align: middle;\n",
       "    }\n",
       "\n",
       "    .dataframe tbody tr th {\n",
       "        vertical-align: top;\n",
       "    }\n",
       "\n",
       "    .dataframe thead th {\n",
       "        text-align: right;\n",
       "    }\n",
       "</style>\n",
       "<table border=\"1\" class=\"dataframe\">\n",
       "  <thead>\n",
       "    <tr style=\"text-align: right;\">\n",
       "      <th></th>\n",
       "      <th>Loan_ID</th>\n",
       "      <th>Gender</th>\n",
       "      <th>Married</th>\n",
       "      <th>Dependents</th>\n",
       "      <th>Education</th>\n",
       "      <th>Self_Employed</th>\n",
       "      <th>ApplicantIncome</th>\n",
       "      <th>CoapplicantIncome</th>\n",
       "      <th>LoanAmount</th>\n",
       "      <th>Loan_Amount_Term</th>\n",
       "      <th>Credit_History</th>\n",
       "      <th>Property_Area</th>\n",
       "      <th>Loan_Status</th>\n",
       "    </tr>\n",
       "  </thead>\n",
       "  <tbody>\n",
       "    <tr>\n",
       "      <th>0</th>\n",
       "      <td>LP001002</td>\n",
       "      <td>Male</td>\n",
       "      <td>No</td>\n",
       "      <td>0</td>\n",
       "      <td>Graduate</td>\n",
       "      <td>No</td>\n",
       "      <td>5849</td>\n",
       "      <td>0.0</td>\n",
       "      <td>NaN</td>\n",
       "      <td>360.0</td>\n",
       "      <td>1.0</td>\n",
       "      <td>Urban</td>\n",
       "      <td>Y</td>\n",
       "    </tr>\n",
       "    <tr>\n",
       "      <th>1</th>\n",
       "      <td>LP001003</td>\n",
       "      <td>Male</td>\n",
       "      <td>Yes</td>\n",
       "      <td>1</td>\n",
       "      <td>Graduate</td>\n",
       "      <td>No</td>\n",
       "      <td>4583</td>\n",
       "      <td>1508.0</td>\n",
       "      <td>128.0</td>\n",
       "      <td>360.0</td>\n",
       "      <td>1.0</td>\n",
       "      <td>Rural</td>\n",
       "      <td>N</td>\n",
       "    </tr>\n",
       "    <tr>\n",
       "      <th>2</th>\n",
       "      <td>LP001005</td>\n",
       "      <td>Male</td>\n",
       "      <td>Yes</td>\n",
       "      <td>0</td>\n",
       "      <td>Graduate</td>\n",
       "      <td>Yes</td>\n",
       "      <td>3000</td>\n",
       "      <td>0.0</td>\n",
       "      <td>66.0</td>\n",
       "      <td>360.0</td>\n",
       "      <td>1.0</td>\n",
       "      <td>Urban</td>\n",
       "      <td>Y</td>\n",
       "    </tr>\n",
       "    <tr>\n",
       "      <th>3</th>\n",
       "      <td>LP001006</td>\n",
       "      <td>Male</td>\n",
       "      <td>Yes</td>\n",
       "      <td>0</td>\n",
       "      <td>Not Graduate</td>\n",
       "      <td>No</td>\n",
       "      <td>2583</td>\n",
       "      <td>2358.0</td>\n",
       "      <td>120.0</td>\n",
       "      <td>360.0</td>\n",
       "      <td>1.0</td>\n",
       "      <td>Urban</td>\n",
       "      <td>Y</td>\n",
       "    </tr>\n",
       "    <tr>\n",
       "      <th>4</th>\n",
       "      <td>LP001008</td>\n",
       "      <td>Male</td>\n",
       "      <td>No</td>\n",
       "      <td>0</td>\n",
       "      <td>Graduate</td>\n",
       "      <td>No</td>\n",
       "      <td>6000</td>\n",
       "      <td>0.0</td>\n",
       "      <td>141.0</td>\n",
       "      <td>360.0</td>\n",
       "      <td>1.0</td>\n",
       "      <td>Urban</td>\n",
       "      <td>Y</td>\n",
       "    </tr>\n",
       "  </tbody>\n",
       "</table>\n",
       "</div>"
      ],
      "text/plain": [
       "    Loan_ID Gender Married Dependents     Education Self_Employed  \\\n",
       "0  LP001002   Male      No          0      Graduate            No   \n",
       "1  LP001003   Male     Yes          1      Graduate            No   \n",
       "2  LP001005   Male     Yes          0      Graduate           Yes   \n",
       "3  LP001006   Male     Yes          0  Not Graduate            No   \n",
       "4  LP001008   Male      No          0      Graduate            No   \n",
       "\n",
       "   ApplicantIncome  CoapplicantIncome  LoanAmount  Loan_Amount_Term  \\\n",
       "0             5849                0.0         NaN             360.0   \n",
       "1             4583             1508.0       128.0             360.0   \n",
       "2             3000                0.0        66.0             360.0   \n",
       "3             2583             2358.0       120.0             360.0   \n",
       "4             6000                0.0       141.0             360.0   \n",
       "\n",
       "   Credit_History Property_Area Loan_Status  \n",
       "0             1.0         Urban           Y  \n",
       "1             1.0         Rural           N  \n",
       "2             1.0         Urban           Y  \n",
       "3             1.0         Urban           Y  \n",
       "4             1.0         Urban           Y  "
      ]
     },
     "execution_count": 89,
     "metadata": {},
     "output_type": "execute_result"
    }
   ],
   "source": [
    "df.head()"
   ]
  },
  {
   "cell_type": "code",
   "execution_count": 90,
   "id": "e2348529",
   "metadata": {},
   "outputs": [
    {
     "data": {
      "text/plain": [
       "Index(['Loan_ID', 'Gender', 'Married', 'Dependents', 'Education',\n",
       "       'Self_Employed', 'ApplicantIncome', 'CoapplicantIncome', 'LoanAmount',\n",
       "       'Loan_Amount_Term', 'Credit_History', 'Property_Area', 'Loan_Status'],\n",
       "      dtype='object')"
      ]
     },
     "execution_count": 90,
     "metadata": {},
     "output_type": "execute_result"
    }
   ],
   "source": [
    "df.columns"
   ]
  },
  {
   "cell_type": "code",
   "execution_count": 91,
   "id": "6cad57f9",
   "metadata": {},
   "outputs": [
    {
     "data": {
      "text/plain": [
       "Y    422\n",
       "N    192\n",
       "Name: Loan_Status, dtype: int64"
      ]
     },
     "execution_count": 91,
     "metadata": {},
     "output_type": "execute_result"
    }
   ],
   "source": [
    "df.Loan_Status.value_counts()"
   ]
  },
  {
   "cell_type": "code",
   "execution_count": 92,
   "id": "dfdf7194",
   "metadata": {},
   "outputs": [
    {
     "data": {
      "text/plain": [
       "Y    0.687296\n",
       "N    0.312704\n",
       "Name: Loan_Status, dtype: float64"
      ]
     },
     "execution_count": 92,
     "metadata": {},
     "output_type": "execute_result"
    }
   ],
   "source": [
    "df.Loan_Status.value_counts(normalize=True)"
   ]
  },
  {
   "cell_type": "code",
   "execution_count": 93,
   "id": "f63766b2",
   "metadata": {
    "scrolled": true
   },
   "outputs": [
    {
     "data": {
      "text/plain": [
       "<AxesSubplot:>"
      ]
     },
     "execution_count": 93,
     "metadata": {},
     "output_type": "execute_result"
    },
    {
     "data": {
      "image/png": "[encoded data removed]",
      "text/plain": [
       "<Figure size 432x288 with 1 Axes>"
      ]
     },
     "metadata": {
      "needs_background": "light"
     },
     "output_type": "display_data"
    }
   ],
   "source": [
    "df['Loan_Status'].value_counts().plot.bar()\n"
   ]
  },
  {
   "cell_type": "markdown",
   "id": "18ccac19",
   "metadata": {},
   "source": [
    "Now, let's visualize each variable separately. Different types of variables are Categorical, ordinal and numerical.\n",
    "\n",
    "Categorical features: These features have categories (Gender, Married, Self_Employed, Credit_History, Loan_Status)\n",
    "\n",
    "Ordinal features: Variables in categorical features having some order involved (Dependents, Education, Property_Area)\n",
    "\n",
    "Numerical features: These features have numerical values (ApplicantIncome, CoapplicantIncome, LoanAmount,Loan_Amount_Term)"
   ]
  },
  {
   "cell_type": "code",
   "execution_count": 94,
   "id": "b67f0e16",
   "metadata": {},
   "outputs": [
    {
     "data": {
      "image/png": "[encoded data removed]",
      "text/plain": [
       "<Figure size 216x216 with 1 Axes>"
      ]
     },
     "metadata": {
      "needs_background": "light"
     },
     "output_type": "display_data"
    },
    {
     "data": {
      "image/png": "[encoded data removed]",
      "text/plain": [
       "<Figure size 216x216 with 1 Axes>"
      ]
     },
     "metadata": {
      "needs_background": "light"
     },
     "output_type": "display_data"
    },
    {
     "data": {
      "image/png": "[encoded data removed]",
      "text/plain": [
       "<Figure size 216x216 with 1 Axes>"
      ]
     },
     "metadata": {
      "needs_background": "light"
     },
     "output_type": "display_data"
    },
    {
     "data": {
      "image/png": "[encoded data removed]",
      "text/plain": [
       "<Figure size 216x216 with 1 Axes>"
      ]
     },
     "metadata": {
      "needs_background": "light"
     },
     "output_type": "display_data"
    }
   ],
   "source": [
    "#categorical variables\n",
    "\n",
    "i=3\n",
    "df['Gender'].value_counts(normalize=True).plot.bar(figsize=(i,i), title='Gender')\n",
    "plt.show()\n",
    "df['Married'].value_counts(normalize=True).plot.bar(figsize=(i,i), title='Married')\n",
    "plt.show()\n",
    "df['Self_Employed'].value_counts(normalize=True).plot.bar(figsize=(i,i), title='Self_Employed')\n",
    "plt.show()\n",
    "df['Credit_History'].value_counts(normalize=True).plot.bar(figsize=(i,i), title='Credit_History')\n",
    "plt.show()\n"
   ]
  },
  {
   "cell_type": "code",
   "execution_count": 95,
   "id": "4c2731ef",
   "metadata": {},
   "outputs": [
    {
     "data": {
      "image/png": "[encoded data removed]",
      "text/plain": [
       "<Figure size 216x216 with 1 Axes>"
      ]
     },
     "metadata": {
      "needs_background": "light"
     },
     "output_type": "display_data"
    },
    {
     "data": {
      "image/png": "[encoded data removed]",
      "text/plain": [
       "<Figure size 216x216 with 1 Axes>"
      ]
     },
     "metadata": {
      "needs_background": "light"
     },
     "output_type": "display_data"
    },
    {
     "data": {
      "image/png": "[encoded data removed]",
      "text/plain": [
       "<Figure size 216x216 with 1 Axes>"
      ]
     },
     "metadata": {
      "needs_background": "light"
     },
     "output_type": "display_data"
    }
   ],
   "source": [
    "#Ordinal variables\n",
    "\n",
    "df['Dependents'].value_counts(normalize=True).plot.bar(figsize=(i,i), title='Dependents')\n",
    "plt.show()\n",
    "df['Education'].value_counts(normalize=True).plot.bar(figsize=(i,i), title='Education')\n",
    "plt.show()\n",
    "df['Property_Area'].value_counts(normalize=True).plot.bar(figsize=(i,i), title='Property_Area')\n",
    "plt.show()"
   ]
  },
  {
   "cell_type": "code",
   "execution_count": 96,
   "id": "5c3c75e7",
   "metadata": {},
   "outputs": [
    {
     "data": {
      "image/png": "[encoded data removed]",
      "text/plain": [
       "<Figure size 432x288 with 1 Axes>"
      ]
     },
     "metadata": {
      "needs_background": "light"
     },
     "output_type": "display_data"
    },
    {
     "data": {
      "image/png": "[encoded data removed]",
      "text/plain": [
       "<Figure size 1152x360 with 1 Axes>"
      ]
     },
     "metadata": {
      "needs_background": "light"
     },
     "output_type": "display_data"
    }
   ],
   "source": [
    "#Numerical variable\n",
    "\n",
    "sns.distplot(df['ApplicantIncome'])\n",
    "plt.show()\n",
    "df['ApplicantIncome'].plot.box(figsize=(16,5))\n",
    "plt.show()"
   ]
  },
  {
   "cell_type": "code",
   "execution_count": 97,
   "id": "a340a9c9",
   "metadata": {},
   "outputs": [
    {
     "data": {
      "text/plain": [
       "Text(0.5, 0.98, '')"
      ]
     },
     "execution_count": 97,
     "metadata": {},
     "output_type": "execute_result"
    },
    {
     "data": {
      "image/png": "[encoded data removed]",
      "text/plain": [
       "<Figure size 432x288 with 1 Axes>"
      ]
     },
     "metadata": {
      "needs_background": "light"
     },
     "output_type": "display_data"
    }
   ],
   "source": [
    "#comparing income education vise using boxplot\n",
    "df.boxplot(column='ApplicantIncome', by = 'Education') \n",
    "plt.suptitle(\"\")"
   ]
  },
  {
   "cell_type": "code",
   "execution_count": 98,
   "id": "03e04af2",
   "metadata": {},
   "outputs": [
    {
     "data": {
      "image/png": "[encoded data removed]",
      "text/plain": [
       "<Figure size 432x288 with 1 Axes>"
      ]
     },
     "metadata": {
      "needs_background": "light"
     },
     "output_type": "display_data"
    },
    {
     "data": {
      "image/png": "[encoded data removed]",
      "text/plain": [
       "<Figure size 1152x360 with 1 Axes>"
      ]
     },
     "metadata": {
      "needs_background": "light"
     },
     "output_type": "display_data"
    }
   ],
   "source": [
    "#comparing co applicant income using boxplot\n",
    "\n",
    "sns.distplot(df['CoapplicantIncome'])\n",
    "plt.show()\n",
    "df['CoapplicantIncome'].plot.box(figsize=(16,5))\n",
    "plt.show()"
   ]
  },
  {
   "cell_type": "markdown",
   "id": "f596c7e4",
   "metadata": {},
   "source": [
    "### finding correlation using correlation matrix"
   ]
  },
  {
   "cell_type": "code",
   "execution_count": 99,
   "id": "72d864cf",
   "metadata": {},
   "outputs": [
    {
     "data": {
      "text/plain": [
       "<AxesSubplot:>"
      ]
     },
     "execution_count": 99,
     "metadata": {},
     "output_type": "execute_result"
    },
    {
     "data": {
      "image/png": "[encoded data removed]",
      "text/plain": [
       "<Figure size 648x432 with 2 Axes>"
      ]
     },
     "metadata": {
      "needs_background": "light"
     },
     "output_type": "display_data"
    }
   ],
   "source": [
    "matrix = df.corr()\n",
    "f, ax = plt.subplots(figsize=(9,6))\n",
    "sns.heatmap(matrix,vmax=.8,square=True, annot = True)"
   ]
  },
  {
   "cell_type": "markdown",
   "id": "bdd6386a",
   "metadata": {},
   "source": [
    "### 3. Missing value and outlier treatment\n"
   ]
  },
  {
   "cell_type": "code",
   "execution_count": 100,
   "id": "ab98bad1",
   "metadata": {},
   "outputs": [
    {
     "data": {
      "text/plain": [
       "Loan_ID               0\n",
       "Gender               13\n",
       "Married               3\n",
       "Dependents           15\n",
       "Education             0\n",
       "Self_Employed        32\n",
       "ApplicantIncome       0\n",
       "CoapplicantIncome     0\n",
       "LoanAmount           22\n",
       "Loan_Amount_Term     14\n",
       "Credit_History       50\n",
       "Property_Area         0\n",
       "Loan_Status           0\n",
       "dtype: int64"
      ]
     },
     "execution_count": 100,
     "metadata": {},
     "output_type": "execute_result"
    }
   ],
   "source": [
    "# number of missing values in each column\n",
    "df.isnull().sum()"
   ]
  },
  {
   "cell_type": "code",
   "execution_count": 101,
   "id": "a3a4cfd6",
   "metadata": {},
   "outputs": [],
   "source": [
    "# dropping the missing values\n",
    "df = df.dropna()"
   ]
  },
  {
   "cell_type": "markdown",
   "id": "add51c1a",
   "metadata": {},
   "source": [
    "#### Label encoding"
   ]
  },
  {
   "cell_type": "code",
   "execution_count": 102,
   "id": "7ded25dc",
   "metadata": {},
   "outputs": [],
   "source": [
    "# label encoding\n",
    "df.replace({\"Loan_Status\":{'N':0,'Y':1}}, inplace=True)"
   ]
  },
  {
   "cell_type": "code",
   "execution_count": 103,
   "id": "a42a0197",
   "metadata": {},
   "outputs": [
    {
     "data": {
      "text/html": [
       "<div>\n",
       "<style scoped>\n",
       "    .dataframe tbody tr th:only-of-type {\n",
       "        vertical-align: middle;\n",
       "    }\n",
       "\n",
       "    .dataframe tbody tr th {\n",
       "        vertical-align: top;\n",
       "    }\n",
       "\n",
       "    .dataframe thead th {\n",
       "        text-align: right;\n",
       "    }\n",
       "</style>\n",
       "<table border=\"1\" class=\"dataframe\">\n",
       "  <thead>\n",
       "    <tr style=\"text-align: right;\">\n",
       "      <th></th>\n",
       "      <th>Loan_ID</th>\n",
       "      <th>Gender</th>\n",
       "      <th>Married</th>\n",
       "      <th>Dependents</th>\n",
       "      <th>Education</th>\n",
       "      <th>Self_Employed</th>\n",
       "      <th>ApplicantIncome</th>\n",
       "      <th>CoapplicantIncome</th>\n",
       "      <th>LoanAmount</th>\n",
       "      <th>Loan_Amount_Term</th>\n",
       "      <th>Credit_History</th>\n",
       "      <th>Property_Area</th>\n",
       "      <th>Loan_Status</th>\n",
       "    </tr>\n",
       "  </thead>\n",
       "  <tbody>\n",
       "    <tr>\n",
       "      <th>1</th>\n",
       "      <td>LP001003</td>\n",
       "      <td>Male</td>\n",
       "      <td>Yes</td>\n",
       "      <td>1</td>\n",
       "      <td>Graduate</td>\n",
       "      <td>No</td>\n",
       "      <td>4583</td>\n",
       "      <td>1508.0</td>\n",
       "      <td>128.0</td>\n",
       "      <td>360.0</td>\n",
       "      <td>1.0</td>\n",
       "      <td>Rural</td>\n",
       "      <td>0</td>\n",
       "    </tr>\n",
       "    <tr>\n",
       "      <th>2</th>\n",
       "      <td>LP001005</td>\n",
       "      <td>Male</td>\n",
       "      <td>Yes</td>\n",
       "      <td>0</td>\n",
       "      <td>Graduate</td>\n",
       "      <td>Yes</td>\n",
       "      <td>3000</td>\n",
       "      <td>0.0</td>\n",
       "      <td>66.0</td>\n",
       "      <td>360.0</td>\n",
       "      <td>1.0</td>\n",
       "      <td>Urban</td>\n",
       "      <td>1</td>\n",
       "    </tr>\n",
       "    <tr>\n",
       "      <th>3</th>\n",
       "      <td>LP001006</td>\n",
       "      <td>Male</td>\n",
       "      <td>Yes</td>\n",
       "      <td>0</td>\n",
       "      <td>Not Graduate</td>\n",
       "      <td>No</td>\n",
       "      <td>2583</td>\n",
       "      <td>2358.0</td>\n",
       "      <td>120.0</td>\n",
       "      <td>360.0</td>\n",
       "      <td>1.0</td>\n",
       "      <td>Urban</td>\n",
       "      <td>1</td>\n",
       "    </tr>\n",
       "    <tr>\n",
       "      <th>4</th>\n",
       "      <td>LP001008</td>\n",
       "      <td>Male</td>\n",
       "      <td>No</td>\n",
       "      <td>0</td>\n",
       "      <td>Graduate</td>\n",
       "      <td>No</td>\n",
       "      <td>6000</td>\n",
       "      <td>0.0</td>\n",
       "      <td>141.0</td>\n",
       "      <td>360.0</td>\n",
       "      <td>1.0</td>\n",
       "      <td>Urban</td>\n",
       "      <td>1</td>\n",
       "    </tr>\n",
       "    <tr>\n",
       "      <th>5</th>\n",
       "      <td>LP001011</td>\n",
       "      <td>Male</td>\n",
       "      <td>Yes</td>\n",
       "      <td>2</td>\n",
       "      <td>Graduate</td>\n",
       "      <td>Yes</td>\n",
       "      <td>5417</td>\n",
       "      <td>4196.0</td>\n",
       "      <td>267.0</td>\n",
       "      <td>360.0</td>\n",
       "      <td>1.0</td>\n",
       "      <td>Urban</td>\n",
       "      <td>1</td>\n",
       "    </tr>\n",
       "  </tbody>\n",
       "</table>\n",
       "</div>"
      ],
      "text/plain": [
       "    Loan_ID Gender Married Dependents     Education Self_Employed  \\\n",
       "1  LP001003   Male     Yes          1      Graduate            No   \n",
       "2  LP001005   Male     Yes          0      Graduate           Yes   \n",
       "3  LP001006   Male     Yes          0  Not Graduate            No   \n",
       "4  LP001008   Male      No          0      Graduate            No   \n",
       "5  LP001011   Male     Yes          2      Graduate           Yes   \n",
       "\n",
       "   ApplicantIncome  CoapplicantIncome  LoanAmount  Loan_Amount_Term  \\\n",
       "1             4583             1508.0       128.0             360.0   \n",
       "2             3000                0.0        66.0             360.0   \n",
       "3             2583             2358.0       120.0             360.0   \n",
       "4             6000                0.0       141.0             360.0   \n",
       "5             5417             4196.0       267.0             360.0   \n",
       "\n",
       "   Credit_History Property_Area  Loan_Status  \n",
       "1             1.0         Rural            0  \n",
       "2             1.0         Urban            1  \n",
       "3             1.0         Urban            1  \n",
       "4             1.0         Urban            1  \n",
       "5             1.0         Urban            1  "
      ]
     },
     "execution_count": 103,
     "metadata": {},
     "output_type": "execute_result"
    }
   ],
   "source": [
    "# printing the first 5 rows of the dataframe\n",
    "df.head()"
   ]
  },
  {
   "cell_type": "code",
   "execution_count": 104,
   "id": "710cc7e7",
   "metadata": {},
   "outputs": [
    {
     "data": {
      "text/plain": [
       "0     274\n",
       "2      85\n",
       "1      80\n",
       "3+     41\n",
       "Name: Dependents, dtype: int64"
      ]
     },
     "execution_count": 104,
     "metadata": {},
     "output_type": "execute_result"
    }
   ],
   "source": [
    "# Dependent column values\n",
    "df['Dependents'].value_counts()"
   ]
  },
  {
   "cell_type": "code",
   "execution_count": 105,
   "id": "4a83f126",
   "metadata": {},
   "outputs": [
    {
     "data": {
      "text/plain": [
       "0    274\n",
       "2     85\n",
       "1     80\n",
       "4     41\n",
       "Name: Dependents, dtype: int64"
      ]
     },
     "execution_count": 105,
     "metadata": {},
     "output_type": "execute_result"
    }
   ],
   "source": [
    "# replacing the value of 3+ to 4\n",
    "df = df.replace(to_replace='3+', value=4)\n",
    "df.Dependents.value_counts()"
   ]
  },
  {
   "cell_type": "code",
   "execution_count": 106,
   "id": "6d71facd",
   "metadata": {},
   "outputs": [],
   "source": [
    "# convert categorical columns to numerical values\n",
    "df.replace({'Married':{'No':0,'Yes':1},'Gender':{'Male':1,'Female':0},'Self_Employed':{'No':0,'Yes':1},\n",
    "                      'Property_Area':{'Rural':0,'Semiurban':1,'Urban':2},'Education':{'Graduate':1,'Not Graduate':0}},inplace=True)"
   ]
  },
  {
   "cell_type": "code",
   "execution_count": 107,
   "id": "b9f72a45",
   "metadata": {},
   "outputs": [],
   "source": [
    "# separating the data and label\n",
    "X = df.drop(columns=['Loan_ID','Loan_Status'],axis=1)\n",
    "Y = df['Loan_Status']"
   ]
  },
  {
   "cell_type": "markdown",
   "id": "1dc9c2bc",
   "metadata": {},
   "source": [
    "### 4. splitting the data\n"
   ]
  },
  {
   "cell_type": "code",
   "execution_count": 108,
   "id": "c4203844",
   "metadata": {},
   "outputs": [],
   "source": [
    "from sklearn.model_selection import train_test_split \n",
    "X_train, X_test,Y_train,Y_test = train_test_split(X,Y,test_size=0.1,stratify=Y,random_state=2)"
   ]
  },
  {
   "cell_type": "code",
   "execution_count": 109,
   "id": "384176aa",
   "metadata": {},
   "outputs": [
    {
     "name": "stdout",
     "output_type": "stream",
     "text": [
      "(480, 11) (432, 11) (48, 11)\n"
     ]
    }
   ],
   "source": [
    "print(X.shape, X_train.shape, X_test.shape)"
   ]
  },
  {
   "cell_type": "markdown",
   "id": "9818298d",
   "metadata": {},
   "source": [
    "### 5. Data preprocessing\n"
   ]
  },
  {
   "cell_type": "code",
   "execution_count": 110,
   "id": "2f847640",
   "metadata": {},
   "outputs": [
    {
     "data": {
      "text/plain": [
       "array([[ 0.47307086,  0.74804197,  0.11672378,  0.50216921, -0.41319694,\n",
       "         0.13245901, -0.58292918,  0.34469918,  0.27632162,  0.39771465,\n",
       "        -0.00880076],\n",
       "       [ 0.47307086,  0.74804197,  2.5566274 ,  0.50216921,  2.42015348,\n",
       "        -0.04650905,  0.07830781,  0.48972966,  0.27632162,  0.39771465,\n",
       "        -0.00880076],\n",
       "       [ 0.47307086,  0.74804197,  2.5566274 ,  0.50216921, -0.41319694,\n",
       "        -0.26045954,  2.30578934,  1.73457463,  0.27632162,  0.39771465,\n",
       "        -0.00880076],\n",
       "       [ 0.47307086,  0.74804197,  0.93002499,  0.50216921, -0.41319694,\n",
       "        -0.15635725, -0.58292918, -0.15082163,  0.27632162,  0.39771465,\n",
       "         1.25850834],\n",
       "       [-2.11384825,  0.74804197, -0.69657742,  0.50216921, -0.41319694,\n",
       "        -0.51665933,  0.27511341, -0.11456401,  0.27632162,  0.39771465,\n",
       "        -0.00880076],\n",
       "       [ 0.47307086,  0.74804197, -0.69657742,  0.50216921, -0.41319694,\n",
       "        -0.54217791,  0.31797826, -0.12664988,  0.27632162,  0.39771465,\n",
       "         1.25850834],\n",
       "       [ 0.47307086,  0.74804197, -0.69657742,  0.50216921, -0.41319694,\n",
       "        -0.51412437,  0.33326052,  0.16341108,  0.27632162,  0.39771465,\n",
       "        -0.00880076],\n",
       "       [ 0.47307086,  0.74804197,  0.93002499,  0.50216921, -0.41319694,\n",
       "        -0.25944555, -0.01413118,  0.26009807,  0.27632162,  0.39771465,\n",
       "         1.25850834],\n",
       "       [ 0.47307086,  0.74804197, -0.69657742,  0.50216921, -0.41319694,\n",
       "        -0.46579116,  0.16851038, -0.44088259,  0.27632162,  0.39771465,\n",
       "        -1.27610985],\n",
       "       [ 0.47307086,  0.74804197, -0.69657742,  0.50216921, -0.41319694,\n",
       "        -0.63918231,  0.73693563, -0.18707925,  0.27632162,  0.39771465,\n",
       "        -0.00880076],\n",
       "       [-2.11384825, -1.33682339, -0.69657742,  0.50216921, -0.41319694,\n",
       "        -0.26045954,  0.26504948, -0.02996289,  0.27632162,  0.39771465,\n",
       "        -0.00880076],\n",
       "       [ 0.47307086,  0.74804197, -0.69657742,  0.50216921, -0.41319694,\n",
       "        -0.57648434,  1.90174149, -0.92431753, -2.52143477,  0.39771465,\n",
       "        -0.00880076],\n",
       "       [ 0.47307086,  0.74804197, -0.69657742,  0.50216921, -0.41319694,\n",
       "        -0.27043037,  0.28778649, -0.15082163,  0.27632162,  0.39771465,\n",
       "        -0.00880076],\n",
       "       [ 0.47307086,  0.74804197,  0.93002499, -1.99136065, -0.41319694,\n",
       "        -0.38332052,  0.09545375, -0.79137292,  0.27632162,  0.39771465,\n",
       "         1.25850834],\n",
       "       [ 0.47307086,  0.74804197,  0.11672378,  0.50216921, -0.41319694,\n",
       "        -0.01237161, -0.19826369, -1.45609596,  0.27632162,  0.39771465,\n",
       "        -0.00880076],\n",
       "       [-2.11384825, -1.33682339, -0.69657742,  0.50216921, -0.41319694,\n",
       "        -0.44635648, -0.58292918, -0.91223166,  0.27632162,  0.39771465,\n",
       "        -1.27610985],\n",
       "       [ 0.47307086,  0.74804197,  0.93002499,  0.50216921, -0.41319694,\n",
       "        -0.25893856,  0.05706175, -0.36836735,  0.27632162,  0.39771465,\n",
       "        -0.00880076],\n",
       "       [ 0.47307086, -1.33682339, -0.69657742,  0.50216921,  2.42015348,\n",
       "         0.2608969 , -0.58292918, -0.7551153 ,  0.27632162,  0.39771465,\n",
       "        -0.00880076],\n",
       "       [ 0.47307086,  0.74804197,  0.93002499, -1.99136065, -0.41319694,\n",
       "        -0.2626565 , -0.05699604,  0.12715346,  0.27632162,  0.39771465,\n",
       "        -1.27610985],\n",
       "       [ 0.47307086, -1.33682339, -0.69657742, -1.99136065, -0.41319694,\n",
       "        -0.54217791, -0.04208652, -0.53756958,  2.14149254, -2.51436551,\n",
       "         1.25850834],\n",
       "       [ 0.47307086,  0.74804197, -0.69657742,  0.50216921, -0.41319694,\n",
       "        -0.41205005, -0.09836994, -0.80345879,  0.27632162,  0.39771465,\n",
       "         1.25850834],\n",
       "       [ 0.47307086,  0.74804197,  0.93002499,  0.50216921,  2.42015348,\n",
       "        -0.16193416,  0.19348381,  0.16341108,  0.27632162,  0.39771465,\n",
       "        -0.00880076],\n",
       "       [ 0.47307086, -1.33682339, -0.69657742,  0.50216921, -0.41319694,\n",
       "         0.12434714, -0.58292918, -0.3441956 ,  0.27632162, -2.51436551,\n",
       "        -1.27610985],\n",
       "       [ 0.47307086,  0.74804197,  0.11672378,  0.50216921, -0.41319694,\n",
       "        -0.21263332,  0.53528444,  0.30844156, -4.0135715 ,  0.39771465,\n",
       "        -1.27610985],\n",
       "       [ 0.47307086, -1.33682339, -0.69657742,  0.50216921, -0.41319694,\n",
       "        -0.55840164, -0.58292918, -1.00891864,  2.14149254, -2.51436551,\n",
       "        -0.00880076],\n",
       "       [ 0.47307086,  0.74804197,  2.5566274 ,  0.50216921, -0.41319694,\n",
       "        -0.20418346,  0.09209911,  0.16341108,  0.27632162, -2.51436551,\n",
       "         1.25850834],\n",
       "       [ 0.47307086,  0.74804197,  0.11672378, -1.99136065, -0.41319694,\n",
       "        -0.55806365,  0.35786121, -0.22333687,  0.27632162,  0.39771465,\n",
       "         1.25850834],\n",
       "       [ 0.47307086,  0.74804197,  0.93002499, -1.99136065, -0.41319694,\n",
       "        -0.56600652,  0.0663802 , -1.22646437,  0.27632162,  0.39771465,\n",
       "        -0.00880076],\n",
       "       [ 0.47307086,  0.74804197, -0.69657742, -1.99136065, -0.41319694,\n",
       "        -0.49705565,  0.1293729 , -0.36836735,  0.27632162, -2.51436551,\n",
       "        -0.00880076],\n",
       "       [-2.11384825, -1.33682339, -0.69657742,  0.50216921, -0.41319694,\n",
       "        -0.20976037, -0.58292918, -0.12664988,  0.27632162, -2.51436551,\n",
       "        -0.00880076],\n",
       "       [ 0.47307086,  0.74804197,  0.93002499,  0.50216921, -0.41319694,\n",
       "         0.11978421,  1.52453076,  0.50181554, -2.52143477,  0.39771465,\n",
       "        -0.00880076],\n",
       "       [ 0.47307086,  0.74804197, -0.69657742, -1.99136065, -0.41319694,\n",
       "        -0.65456106,  0.86702115,  0.65893189,  0.27632162, -2.51436551,\n",
       "        -0.00880076],\n",
       "       [-2.11384825, -1.33682339,  0.11672378,  0.50216921, -0.41319694,\n",
       "        -0.49705565, -0.58292918,  0.16341108,  0.27632162,  0.39771465,\n",
       "         1.25850834],\n",
       "       [ 0.47307086, -1.33682339, -0.69657742,  0.50216921, -0.41319694,\n",
       "        -0.38653147, -0.58292918, -1.166035  ,  0.27632162,  0.39771465,\n",
       "         1.25850834],\n",
       "       [-2.11384825, -1.33682339, -0.69657742,  0.50216921, -0.41319694,\n",
       "        -0.43030175, -0.58292918, -1.04517626,  0.27632162,  0.39771465,\n",
       "         1.25850834],\n",
       "       [ 0.47307086,  0.74804197,  0.93002499,  0.50216921, -0.41319694,\n",
       "        -0.19286065, -0.58292918, -0.23542274,  0.27632162, -2.51436551,\n",
       "        -0.00880076],\n",
       "       [ 0.47307086,  0.74804197,  0.11672378, -1.99136065, -0.41319694,\n",
       "        -0.48674682,  2.06388246,  1.60163002, -2.52143477,  0.39771465,\n",
       "        -0.00880076],\n",
       "       [ 0.47307086,  0.74804197, -0.69657742,  0.50216921, -0.41319694,\n",
       "        -0.60234092, -0.21130952, -1.166035  ,  0.27632162,  0.39771465,\n",
       "        -0.00880076],\n",
       "       [ 0.47307086,  0.74804197,  0.93002499, -1.99136065, -0.41319694,\n",
       "        -0.59963696,  0.02276987, -0.40462497, -2.52143477,  0.39771465,\n",
       "        -0.00880076],\n",
       "       [-2.11384825, -1.33682339, -0.69657742,  0.50216921, -0.41319694,\n",
       "        -0.68295259,  0.08799899, -0.52548371,  0.27632162, -2.51436551,\n",
       "        -0.00880076],\n",
       "       [ 0.47307086, -1.33682339,  0.93002499,  0.50216921, -0.41319694,\n",
       "        -0.32518547, -0.58292918, -0.47714021,  0.27632162,  0.39771465,\n",
       "        -0.00880076],\n",
       "       [ 0.47307086, -1.33682339, -0.69657742,  0.50216921, -0.41319694,\n",
       "        -0.09991218, -0.58292918, -0.25959449,  0.27632162,  0.39771465,\n",
       "         1.25850834],\n",
       "       [ 0.47307086,  0.74804197, -0.69657742,  0.50216921, -0.41319694,\n",
       "        -0.20418346,  0.33065135, -0.44088259,  0.27632162,  0.39771465,\n",
       "         1.25850834],\n",
       "       [ 0.47307086,  0.74804197,  0.93002499,  0.50216921, -0.41319694,\n",
       "        -0.06019783, -0.58292918,  0.10298171,  0.27632162,  0.39771465,\n",
       "        -0.00880076],\n",
       "       [ 0.47307086,  0.74804197, -0.69657742, -1.99136065, -0.41319694,\n",
       "        -0.63225343,  0.51068374, -0.64634244,  0.27632162, -2.51436551,\n",
       "         1.25850834],\n",
       "       [ 0.47307086,  0.74804197, -0.69657742,  0.50216921, -0.41319694,\n",
       "         0.63995767, -0.58292918,  0.50181554, -2.52143477,  0.39771465,\n",
       "        -1.27610985],\n",
       "       [ 0.47307086,  0.74804197, -0.69657742,  0.50216921, -0.41319694,\n",
       "         0.11978421, -0.58292918, -0.22333687,  0.27632162,  0.39771465,\n",
       "        -0.00880076],\n",
       "       [ 0.47307086, -1.33682339,  0.93002499,  0.50216921, -0.41319694,\n",
       "        -0.1044751 , -0.58292918,  0.23592632,  0.27632162, -2.51436551,\n",
       "        -0.00880076]])"
      ]
     },
     "execution_count": 110,
     "metadata": {},
     "output_type": "execute_result"
    }
   ],
   "source": [
    "from sklearn.preprocessing import StandardScaler\n",
    "scalar = StandardScaler()\n",
    "scalar.fit_transform(X_train)\n",
    "scalar.transform(X_test)"
   ]
  },
  {
   "cell_type": "markdown",
   "id": "454b5fe2",
   "metadata": {},
   "source": [
    "### 6. Model Building\n",
    "    i. Logistic Regression\n",
    "  "
   ]
  },
  {
   "cell_type": "code",
   "execution_count": 111,
   "id": "dbb2e808",
   "metadata": {},
   "outputs": [],
   "source": [
    "from sklearn.linear_model import LogisticRegression\n",
    "model = LogisticRegression()\n"
   ]
  },
  {
   "cell_type": "code",
   "execution_count": 112,
   "id": "f80ee7c1",
   "metadata": {},
   "outputs": [
    {
     "data": {
      "text/html": [
       "<style>#sk-container-id-4 {color: black;background-color: white;}#sk-container-id-4 pre{padding: 0;}#sk-container-id-4 div.sk-toggleable {background-color: white;}#sk-container-id-4 label.sk-toggleable__label {cursor: pointer;display: block;width: 100%;margin-bottom: 0;padding: 0.3em;box-sizing: border-box;text-align: center;}#sk-container-id-4 label.sk-toggleable__label-arrow:before {content: \"▸\";float: left;margin-right: 0.25em;color: #696969;}#sk-container-id-4 label.sk-toggleable__label-arrow:hover:before {color: black;}#sk-container-id-4 div.sk-estimator:hover label.sk-toggleable__label-arrow:before {color: black;}#sk-container-id-4 div.sk-toggleable__content {max-height: 0;max-width: 0;overflow: hidden;text-align: left;background-color: #f0f8ff;}#sk-container-id-4 div.sk-toggleable__content pre {margin: 0.2em;color: black;border-radius: 0.25em;background-color: #f0f8ff;}#sk-container-id-4 input.sk-toggleable__control:checked~div.sk-toggleable__content {max-height: 200px;max-width: 100%;overflow: auto;}#sk-container-id-4 input.sk-toggleable__control:checked~label.sk-toggleable__label-arrow:before {content: \"▾\";}#sk-container-id-4 div.sk-estimator input.sk-toggleable__control:checked~label.sk-toggleable__label {background-color: #d4ebff;}#sk-container-id-4 div.sk-label input.sk-toggleable__control:checked~label.sk-toggleable__label {background-color: #d4ebff;}#sk-container-id-4 input.sk-hidden--visually {border: 0;clip: rect(1px 1px 1px 1px);clip: rect(1px, 1px, 1px, 1px);height: 1px;margin: -1px;overflow: hidden;padding: 0;position: absolute;width: 1px;}#sk-container-id-4 div.sk-estimator {font-family: monospace;background-color: #f0f8ff;border: 1px dotted black;border-radius: 0.25em;box-sizing: border-box;margin-bottom: 0.5em;}#sk-container-id-4 div.sk-estimator:hover {background-color: #d4ebff;}#sk-container-id-4 div.sk-parallel-item::after {content: \"\";width: 100%;border-bottom: 1px solid gray;flex-grow: 1;}#sk-container-id-4 div.sk-label:hover label.sk-toggleable__label {background-color: #d4ebff;}#sk-container-id-4 div.sk-serial::before {content: \"\";position: absolute;border-left: 1px solid gray;box-sizing: border-box;top: 0;bottom: 0;left: 50%;z-index: 0;}#sk-container-id-4 div.sk-serial {display: flex;flex-direction: column;align-items: center;background-color: white;padding-right: 0.2em;padding-left: 0.2em;position: relative;}#sk-container-id-4 div.sk-item {position: relative;z-index: 1;}#sk-container-id-4 div.sk-parallel {display: flex;align-items: stretch;justify-content: center;background-color: white;position: relative;}#sk-container-id-4 div.sk-item::before, #sk-container-id-4 div.sk-parallel-item::before {content: \"\";position: absolute;border-left: 1px solid gray;box-sizing: border-box;top: 0;bottom: 0;left: 50%;z-index: -1;}#sk-container-id-4 div.sk-parallel-item {display: flex;flex-direction: column;z-index: 1;position: relative;background-color: white;}#sk-container-id-4 div.sk-parallel-item:first-child::after {align-self: flex-end;width: 50%;}#sk-container-id-4 div.sk-parallel-item:last-child::after {align-self: flex-start;width: 50%;}#sk-container-id-4 div.sk-parallel-item:only-child::after {width: 0;}#sk-container-id-4 div.sk-dashed-wrapped {border: 1px dashed gray;margin: 0 0.4em 0.5em 0.4em;box-sizing: border-box;padding-bottom: 0.4em;background-color: white;}#sk-container-id-4 div.sk-label label {font-family: monospace;font-weight: bold;display: inline-block;line-height: 1.2em;}#sk-container-id-4 div.sk-label-container {text-align: center;}#sk-container-id-4 div.sk-container {/* jupyter's `normalize.less` sets `[hidden] { display: none; }` but bootstrap.min.css set `[hidden] { display: none !important; }` so we also need the `!important` here to be able to override the default hidden behavior on the sphinx rendered scikit-learn.org. See: https://github.com/scikit-learn/scikit-learn/issues/21755 */display: inline-block !important;position: relative;}#sk-container-id-4 div.sk-text-repr-fallback {display: none;}</style><div id=\"sk-container-id-4\" class=\"sk-top-container\"><div class=\"sk-text-repr-fallback\"><pre>LogisticRegression()</pre><b>In a Jupyter environment, please rerun this cell to show the HTML representation or trust the notebook. <br />On GitHub, the HTML representation is unable to render, please try loading this page with nbviewer.org.</b></div><div class=\"sk-container\" hidden><div class=\"sk-item\"><div class=\"sk-estimator sk-toggleable\"><input class=\"sk-toggleable__control sk-hidden--visually\" id=\"sk-estimator-id-4\" type=\"checkbox\" checked><label for=\"sk-estimator-id-4\" class=\"sk-toggleable__label sk-toggleable__label-arrow\">LogisticRegression</label><div class=\"sk-toggleable__content\"><pre>LogisticRegression()</pre></div></div></div></div></div>"
      ],
      "text/plain": [
       "LogisticRegression()"
      ]
     },
     "execution_count": 112,
     "metadata": {},
     "output_type": "execute_result"
    }
   ],
   "source": [
    "#Training the model\n",
    "model.fit(X_train,Y_train)"
   ]
  },
  {
   "cell_type": "markdown",
   "id": "fd8db8eb",
   "metadata": {},
   "source": [
    "### Model evaluation using accuracy score"
   ]
  },
  {
   "cell_type": "code",
   "execution_count": 113,
   "id": "2dc6476e",
   "metadata": {},
   "outputs": [],
   "source": [
    "# accuracy score on training data\n",
    "from sklearn.metrics import accuracy_score\n",
    "X_train_prediction = model.predict(X_train)\n",
    "training_data_accuray = accuracy_score(X_train_prediction,Y_train)"
   ]
  },
  {
   "cell_type": "code",
   "execution_count": 114,
   "id": "1850861f",
   "metadata": {},
   "outputs": [
    {
     "name": "stdout",
     "output_type": "stream",
     "text": [
      "Accuracy on training data :  0.8009259259259259\n"
     ]
    }
   ],
   "source": [
    "print('Accuracy on training data : ', training_data_accuray)"
   ]
  },
  {
   "cell_type": "code",
   "execution_count": 115,
   "id": "094d1741",
   "metadata": {},
   "outputs": [
    {
     "name": "stdout",
     "output_type": "stream",
     "text": [
      "Accuracy on test data :  0.8333333333333334\n"
     ]
    }
   ],
   "source": [
    "print('Accuracy on test data : ', test_data_accuray)"
   ]
  },
  {
   "cell_type": "markdown",
   "id": "488d3d5a",
   "metadata": {},
   "source": [
    "### Model evaluation using classification report\n"
   ]
  },
  {
   "cell_type": "code",
   "execution_count": 128,
   "id": "9c196fb8",
   "metadata": {},
   "outputs": [
    {
     "data": {
      "text/html": [
       "<div>\n",
       "<style scoped>\n",
       "    .dataframe tbody tr th:only-of-type {\n",
       "        vertical-align: middle;\n",
       "    }\n",
       "\n",
       "    .dataframe tbody tr th {\n",
       "        vertical-align: top;\n",
       "    }\n",
       "\n",
       "    .dataframe thead th {\n",
       "        text-align: right;\n",
       "    }\n",
       "</style>\n",
       "<table border=\"1\" class=\"dataframe\">\n",
       "  <thead>\n",
       "    <tr style=\"text-align: right;\">\n",
       "      <th></th>\n",
       "      <th>0</th>\n",
       "      <th>1</th>\n",
       "      <th>accuracy</th>\n",
       "      <th>macro avg</th>\n",
       "      <th>weighted avg</th>\n",
       "    </tr>\n",
       "  </thead>\n",
       "  <tbody>\n",
       "    <tr>\n",
       "      <th>precision</th>\n",
       "      <td>0.600000</td>\n",
       "      <td>0.909091</td>\n",
       "      <td>0.8125</td>\n",
       "      <td>0.754545</td>\n",
       "      <td>0.831818</td>\n",
       "    </tr>\n",
       "    <tr>\n",
       "      <th>recall</th>\n",
       "      <td>0.750000</td>\n",
       "      <td>0.833333</td>\n",
       "      <td>0.8125</td>\n",
       "      <td>0.791667</td>\n",
       "      <td>0.812500</td>\n",
       "    </tr>\n",
       "    <tr>\n",
       "      <th>f1-score</th>\n",
       "      <td>0.666667</td>\n",
       "      <td>0.869565</td>\n",
       "      <td>0.8125</td>\n",
       "      <td>0.768116</td>\n",
       "      <td>0.818841</td>\n",
       "    </tr>\n",
       "    <tr>\n",
       "      <th>support</th>\n",
       "      <td>12.000000</td>\n",
       "      <td>36.000000</td>\n",
       "      <td>0.8125</td>\n",
       "      <td>48.000000</td>\n",
       "      <td>48.000000</td>\n",
       "    </tr>\n",
       "  </tbody>\n",
       "</table>\n",
       "</div>"
      ],
      "text/plain": [
       "                   0          1  accuracy  macro avg  weighted avg\n",
       "precision   0.600000   0.909091    0.8125   0.754545      0.831818\n",
       "recall      0.750000   0.833333    0.8125   0.791667      0.812500\n",
       "f1-score    0.666667   0.869565    0.8125   0.768116      0.818841\n",
       "support    12.000000  36.000000    0.8125  48.000000     48.000000"
      ]
     },
     "execution_count": 128,
     "metadata": {},
     "output_type": "execute_result"
    }
   ],
   "source": [
    "from sklearn.metrics import classification_report\n",
    "\n",
    "c_class = classification_report(X_test_prediction, Y_test, output_dict=True)\n",
    "\n",
    "c_class1 = pd.DataFrame(c_class)\n",
    "c_class1"
   ]
  },
  {
   "cell_type": "markdown",
   "id": "7381a8c4",
   "metadata": {},
   "source": [
    "### 7. Model Building\n",
    "    ii. Random Forest"
   ]
  },
  {
   "cell_type": "code",
   "execution_count": 116,
   "id": "00fe5250",
   "metadata": {},
   "outputs": [],
   "source": [
    "from sklearn.ensemble import RandomForestClassifier\n",
    "model = RandomForestClassifier()"
   ]
  },
  {
   "cell_type": "code",
   "execution_count": 117,
   "id": "1539b172",
   "metadata": {
    "scrolled": true
   },
   "outputs": [
    {
     "data": {
      "text/html": [
       "<style>#sk-container-id-5 {color: black;background-color: white;}#sk-container-id-5 pre{padding: 0;}#sk-container-id-5 div.sk-toggleable {background-color: white;}#sk-container-id-5 label.sk-toggleable__label {cursor: pointer;display: block;width: 100%;margin-bottom: 0;padding: 0.3em;box-sizing: border-box;text-align: center;}#sk-container-id-5 label.sk-toggleable__label-arrow:before {content: \"▸\";float: left;margin-right: 0.25em;color: #696969;}#sk-container-id-5 label.sk-toggleable__label-arrow:hover:before {color: black;}#sk-container-id-5 div.sk-estimator:hover label.sk-toggleable__label-arrow:before {color: black;}#sk-container-id-5 div.sk-toggleable__content {max-height: 0;max-width: 0;overflow: hidden;text-align: left;background-color: #f0f8ff;}#sk-container-id-5 div.sk-toggleable__content pre {margin: 0.2em;color: black;border-radius: 0.25em;background-color: #f0f8ff;}#sk-container-id-5 input.sk-toggleable__control:checked~div.sk-toggleable__content {max-height: 200px;max-width: 100%;overflow: auto;}#sk-container-id-5 input.sk-toggleable__control:checked~label.sk-toggleable__label-arrow:before {content: \"▾\";}#sk-container-id-5 div.sk-estimator input.sk-toggleable__control:checked~label.sk-toggleable__label {background-color: #d4ebff;}#sk-container-id-5 div.sk-label input.sk-toggleable__control:checked~label.sk-toggleable__label {background-color: #d4ebff;}#sk-container-id-5 input.sk-hidden--visually {border: 0;clip: rect(1px 1px 1px 1px);clip: rect(1px, 1px, 1px, 1px);height: 1px;margin: -1px;overflow: hidden;padding: 0;position: absolute;width: 1px;}#sk-container-id-5 div.sk-estimator {font-family: monospace;background-color: #f0f8ff;border: 1px dotted black;border-radius: 0.25em;box-sizing: border-box;margin-bottom: 0.5em;}#sk-container-id-5 div.sk-estimator:hover {background-color: #d4ebff;}#sk-container-id-5 div.sk-parallel-item::after {content: \"\";width: 100%;border-bottom: 1px solid gray;flex-grow: 1;}#sk-container-id-5 div.sk-label:hover label.sk-toggleable__label {background-color: #d4ebff;}#sk-container-id-5 div.sk-serial::before {content: \"\";position: absolute;border-left: 1px solid gray;box-sizing: border-box;top: 0;bottom: 0;left: 50%;z-index: 0;}#sk-container-id-5 div.sk-serial {display: flex;flex-direction: column;align-items: center;background-color: white;padding-right: 0.2em;padding-left: 0.2em;position: relative;}#sk-container-id-5 div.sk-item {position: relative;z-index: 1;}#sk-container-id-5 div.sk-parallel {display: flex;align-items: stretch;justify-content: center;background-color: white;position: relative;}#sk-container-id-5 div.sk-item::before, #sk-container-id-5 div.sk-parallel-item::before {content: \"\";position: absolute;border-left: 1px solid gray;box-sizing: border-box;top: 0;bottom: 0;left: 50%;z-index: -1;}#sk-container-id-5 div.sk-parallel-item {display: flex;flex-direction: column;z-index: 1;position: relative;background-color: white;}#sk-container-id-5 div.sk-parallel-item:first-child::after {align-self: flex-end;width: 50%;}#sk-container-id-5 div.sk-parallel-item:last-child::after {align-self: flex-start;width: 50%;}#sk-container-id-5 div.sk-parallel-item:only-child::after {width: 0;}#sk-container-id-5 div.sk-dashed-wrapped {border: 1px dashed gray;margin: 0 0.4em 0.5em 0.4em;box-sizing: border-box;padding-bottom: 0.4em;background-color: white;}#sk-container-id-5 div.sk-label label {font-family: monospace;font-weight: bold;display: inline-block;line-height: 1.2em;}#sk-container-id-5 div.sk-label-container {text-align: center;}#sk-container-id-5 div.sk-container {/* jupyter's `normalize.less` sets `[hidden] { display: none; }` but bootstrap.min.css set `[hidden] { display: none !important; }` so we also need the `!important` here to be able to override the default hidden behavior on the sphinx rendered scikit-learn.org. See: https://github.com/scikit-learn/scikit-learn/issues/21755 */display: inline-block !important;position: relative;}#sk-container-id-5 div.sk-text-repr-fallback {display: none;}</style><div id=\"sk-container-id-5\" class=\"sk-top-container\"><div class=\"sk-text-repr-fallback\"><pre>RandomForestClassifier()</pre><b>In a Jupyter environment, please rerun this cell to show the HTML representation or trust the notebook. <br />On GitHub, the HTML representation is unable to render, please try loading this page with nbviewer.org.</b></div><div class=\"sk-container\" hidden><div class=\"sk-item\"><div class=\"sk-estimator sk-toggleable\"><input class=\"sk-toggleable__control sk-hidden--visually\" id=\"sk-estimator-id-5\" type=\"checkbox\" checked><label for=\"sk-estimator-id-5\" class=\"sk-toggleable__label sk-toggleable__label-arrow\">RandomForestClassifier</label><div class=\"sk-toggleable__content\"><pre>RandomForestClassifier()</pre></div></div></div></div></div>"
      ],
      "text/plain": [
       "RandomForestClassifier()"
      ]
     },
     "execution_count": 117,
     "metadata": {},
     "output_type": "execute_result"
    }
   ],
   "source": [
    "#Training the model\n",
    "model.fit(X_train,Y_train)"
   ]
  },
  {
   "cell_type": "markdown",
   "id": "d23a8765",
   "metadata": {},
   "source": [
    "### Model evaluation using accuracy score\n"
   ]
  },
  {
   "cell_type": "code",
   "execution_count": 118,
   "id": "a18655d7",
   "metadata": {},
   "outputs": [
    {
     "name": "stdout",
     "output_type": "stream",
     "text": [
      "Accuracy on training data :  1.0\n"
     ]
    }
   ],
   "source": [
    "# accuracy score on training data\n",
    "X_train_prediction = model.predict(X_train)\n",
    "training_data_accuray = accuracy_score(X_train_prediction,Y_train)\n",
    "\n",
    "print('Accuracy on training data : ', training_data_accuray)"
   ]
  },
  {
   "cell_type": "code",
   "execution_count": 119,
   "id": "e0812ac7",
   "metadata": {},
   "outputs": [
    {
     "name": "stdout",
     "output_type": "stream",
     "text": [
      "Accuracy on test data :  0.8125\n"
     ]
    }
   ],
   "source": [
    "# accuracy score on training data\n",
    "X_test_prediction = model.predict(X_test)\n",
    "test_data_accuray = accuracy_score(X_test_prediction,Y_test)\n",
    "\n",
    "print('Accuracy on test data : ', test_data_accuray)"
   ]
  },
  {
   "cell_type": "markdown",
   "id": "7fd2ec76",
   "metadata": {},
   "source": [
    "### Model evaluation using classification report\n"
   ]
  },
  {
   "cell_type": "code",
   "execution_count": 127,
   "id": "93969d97",
   "metadata": {},
   "outputs": [
    {
     "data": {
      "text/html": [
       "<div>\n",
       "<style scoped>\n",
       "    .dataframe tbody tr th:only-of-type {\n",
       "        vertical-align: middle;\n",
       "    }\n",
       "\n",
       "    .dataframe tbody tr th {\n",
       "        vertical-align: top;\n",
       "    }\n",
       "\n",
       "    .dataframe thead th {\n",
       "        text-align: right;\n",
       "    }\n",
       "</style>\n",
       "<table border=\"1\" class=\"dataframe\">\n",
       "  <thead>\n",
       "    <tr style=\"text-align: right;\">\n",
       "      <th></th>\n",
       "      <th>0</th>\n",
       "      <th>1</th>\n",
       "      <th>accuracy</th>\n",
       "      <th>macro avg</th>\n",
       "      <th>weighted avg</th>\n",
       "    </tr>\n",
       "  </thead>\n",
       "  <tbody>\n",
       "    <tr>\n",
       "      <th>precision</th>\n",
       "      <td>0.600000</td>\n",
       "      <td>0.909091</td>\n",
       "      <td>0.8125</td>\n",
       "      <td>0.754545</td>\n",
       "      <td>0.831818</td>\n",
       "    </tr>\n",
       "    <tr>\n",
       "      <th>recall</th>\n",
       "      <td>0.750000</td>\n",
       "      <td>0.833333</td>\n",
       "      <td>0.8125</td>\n",
       "      <td>0.791667</td>\n",
       "      <td>0.812500</td>\n",
       "    </tr>\n",
       "    <tr>\n",
       "      <th>f1-score</th>\n",
       "      <td>0.666667</td>\n",
       "      <td>0.869565</td>\n",
       "      <td>0.8125</td>\n",
       "      <td>0.768116</td>\n",
       "      <td>0.818841</td>\n",
       "    </tr>\n",
       "    <tr>\n",
       "      <th>support</th>\n",
       "      <td>12.000000</td>\n",
       "      <td>36.000000</td>\n",
       "      <td>0.8125</td>\n",
       "      <td>48.000000</td>\n",
       "      <td>48.000000</td>\n",
       "    </tr>\n",
       "  </tbody>\n",
       "</table>\n",
       "</div>"
      ],
      "text/plain": [
       "                   0          1  accuracy  macro avg  weighted avg\n",
       "precision   0.600000   0.909091    0.8125   0.754545      0.831818\n",
       "recall      0.750000   0.833333    0.8125   0.791667      0.812500\n",
       "f1-score    0.666667   0.869565    0.8125   0.768116      0.818841\n",
       "support    12.000000  36.000000    0.8125  48.000000     48.000000"
      ]
     },
     "execution_count": 127,
     "metadata": {},
     "output_type": "execute_result"
    }
   ],
   "source": [
    "c_class = classification_report(X_test_prediction, Y_test, output_dict=True)\n",
    "\n",
    "c_class1 = pd.DataFrame(c_class)\n",
    "c_class1"
   ]
  }
 ],
 "metadata": {
  "kernelspec": {
   "display_name": "Python 3",
   "language": "python",
   "name": "python3"
  },
  "language_info": {
   "codemirror_mode": {
    "name": "ipython",
    "version": 3
   },
   "file_extension": ".py",
   "mimetype": "text/x-python",
   "name": "python",
   "nbconvert_exporter": "python",
   "pygments_lexer": "ipython3",
   "version": "3.8.8"
  }
 },
 "nbformat": 4,
 "nbformat_minor": 5
}
